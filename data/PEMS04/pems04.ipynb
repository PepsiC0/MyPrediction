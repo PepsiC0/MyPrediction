{
 "cells": [
  {
   "cell_type": "code",
   "execution_count": 1,
   "id": "730def49",
   "metadata": {},
   "outputs": [],
   "source": [
    "import numpy as np\n",
    "import pandas as pd"
   ]
  },
  {
   "cell_type": "code",
   "execution_count": 2,
   "id": "d05b8504",
   "metadata": {},
   "outputs": [],
   "source": [
    "data = np.load('PEMS04.npz')"
   ]
  },
  {
   "cell_type": "code",
   "execution_count": 26,
   "id": "b3274390",
   "metadata": {},
   "outputs": [
    {
     "data": {
      "text/plain": [
       "(307, 16992, 3)"
      ]
     },
     "execution_count": 26,
     "metadata": {},
     "output_type": "execute_result"
    }
   ],
   "source": [
    "flow_data = data['data'].transpose([1, 0, 2])\n",
    "flow_data.shape"
   ]
  },
  {
   "cell_type": "code",
   "execution_count": 9,
   "id": "a3a17675",
   "metadata": {},
   "outputs": [
    {
     "data": {
      "text/plain": [
       "array([[62., 61., 71., ..., 66., 77., 74.],\n",
       "       [56., 40., 28., ..., 76., 73., 71.],\n",
       "       [90., 94., 79., ..., 77., 96., 64.],\n",
       "       ...,\n",
       "       [56., 51., 67., ..., 85., 69., 80.],\n",
       "       [48., 30., 31., ..., 58., 52., 78.],\n",
       "       [38., 35., 45., ..., 57., 43., 40.]])"
      ]
     },
     "execution_count": 9,
     "metadata": {},
     "output_type": "execute_result"
    }
   ],
   "source": [
    "flow_data = flow_data[:,:,0]\n",
    "flow_data"
   ]
  },
  {
   "cell_type": "code",
   "execution_count": 11,
   "id": "cfa3eec4",
   "metadata": {},
   "outputs": [
    {
     "data": {
      "text/plain": [
       "(16992,)"
      ]
     },
     "execution_count": 11,
     "metadata": {},
     "output_type": "execute_result"
    }
   ],
   "source": [
    "flow_data[0].shape"
   ]
  },
  {
   "cell_type": "code",
   "execution_count": 12,
   "id": "869d3057",
   "metadata": {},
   "outputs": [
    {
     "data": {
      "text/plain": [
       "array([[[62.],\n",
       "        [61.],\n",
       "        [71.],\n",
       "        ...,\n",
       "        [66.],\n",
       "        [77.],\n",
       "        [74.]],\n",
       "\n",
       "       [[56.],\n",
       "        [40.],\n",
       "        [28.],\n",
       "        ...,\n",
       "        [76.],\n",
       "        [73.],\n",
       "        [71.]],\n",
       "\n",
       "       [[90.],\n",
       "        [94.],\n",
       "        [79.],\n",
       "        ...,\n",
       "        [77.],\n",
       "        [96.],\n",
       "        [64.]],\n",
       "\n",
       "       ...,\n",
       "\n",
       "       [[56.],\n",
       "        [51.],\n",
       "        [67.],\n",
       "        ...,\n",
       "        [85.],\n",
       "        [69.],\n",
       "        [80.]],\n",
       "\n",
       "       [[48.],\n",
       "        [30.],\n",
       "        [31.],\n",
       "        ...,\n",
       "        [58.],\n",
       "        [52.],\n",
       "        [78.]],\n",
       "\n",
       "       [[38.],\n",
       "        [35.],\n",
       "        [45.],\n",
       "        ...,\n",
       "        [57.],\n",
       "        [43.],\n",
       "        [40.]]])"
      ]
     },
     "execution_count": 12,
     "metadata": {},
     "output_type": "execute_result"
    }
   ],
   "source": [
    "flow_data = flow_data[:, :, np.newaxis]\n",
    "flow_data"
   ]
  },
  {
   "cell_type": "code",
   "execution_count": 13,
   "id": "e13823f8",
   "metadata": {},
   "outputs": [
    {
     "data": {
      "text/plain": [
       "(307, 16992, 1)"
      ]
     },
     "execution_count": 13,
     "metadata": {},
     "output_type": "execute_result"
    }
   ],
   "source": [
    "flow_data.shape"
   ]
  },
  {
   "cell_type": "code",
   "execution_count": 37,
   "id": "a28e0a12",
   "metadata": {},
   "outputs": [
    {
     "data": {
      "text/plain": [
       "array([6.20e+01, 7.70e-03, 6.79e+01])"
      ]
     },
     "execution_count": 37,
     "metadata": {},
     "output_type": "execute_result"
    }
   ],
   "source": [
    "date_data = flow_data[:,0,:]\n",
    "date_data[0]"
   ]
  },
  {
   "cell_type": "code",
   "execution_count": null,
   "id": "a4283175",
   "metadata": {},
   "outputs": [],
   "source": []
  }
 ],
 "metadata": {
  "kernelspec": {
   "display_name": "Python 3 (ipykernel)",
   "language": "python",
   "name": "python3"
  },
  "language_info": {
   "codemirror_mode": {
    "name": "ipython",
    "version": 3
   },
   "file_extension": ".py",
   "mimetype": "text/x-python",
   "name": "python",
   "nbconvert_exporter": "python",
   "pygments_lexer": "ipython3",
   "version": "3.7.13"
  }
 },
 "nbformat": 4,
 "nbformat_minor": 5
}
